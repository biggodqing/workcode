{
 "cells": [
  {
   "cell_type": "markdown",
   "metadata": {},
   "source": [
    "# Setup "
   ]
  },
  {
   "cell_type": "markdown",
   "metadata": {},
   "source": [
    "## 构建工具setup.py的应用场景 \n",
    "安装python的相关模块和库时，一般使用“pip install 模块名”或者“python setup.py install”，前者是在线安装，会安装该包的相关依赖包；后者是下载源码包然后在本地安装，不会安装该包的相关依赖包。但是在如下场景下，使用python setup.py install会更适合需求：\n",
    "\n",
    "在编写相关系统时，实现连同依赖包一起打包发布。同时将自己编写的模块以exe文件格式安装到python的全局执行路径C:\\Python27\\Scripts下。\n",
    "\n",
    "使用构建工具setup.py即可实现上述需求，只需在setup.py文件中写明依赖的库和版本，然后到目标机器上使用python setup.py install安装"
   ]
  },
  {
   "cell_type": "markdown",
   "metadata": {},
   "source": [
    "distutils是Python标准库的一部分，其初衷是为开发者提供一种方便的打包方式，同时为使用者提供方便的安装方式。\n",
    "\n",
    "setuptools 是对 distutils 的增强, 尤其是引入了包依赖管理。setuptools可以为Python包创建 egg文件， Python 与 egg 文件的关系，相当于java与jar包的关系。\n",
    "\n",
    "setuptools 提供的 easy_install 脚本可以用来安装 egg包。 另外， easy_install 可以自动从 PyPI 上下载相关的包，并完成安装，升级。\n",
    "\n",
    "distutils是Python标准模块，setuptools是第三方模块。实际上： setuptools.setup = distutils.core.setup"
   ]
  },
  {
   "cell_type": "markdown",
   "metadata": {},
   "source": [
    "## Distutils发布Python模块 \n",
    "Distutils可以用来在Python环境中构建和安装额外的模块。新的模块可以是纯Python的，也可以是用C/C++写的扩展模块，或者可以是Python包，包中包含了由C和Python编写的模块。"
   ]
  },
  {
   "cell_type": "markdown",
   "metadata": {},
   "source": [
    "#### Distutils的使用：\n",
    "\n",
    "编写源码；\n",
    "\n",
    "编写setup脚本（一般是setup.py）；\n",
    "\n",
    "编写一个setup配置文件（可选）；\n",
    "\n",
    "创建一个源码发布；\n",
    "\n",
    "创建一个或多个构建（二进制）发布（可选）;"
   ]
  },
  {
   "cell_type": "markdown",
   "metadata": {},
   "source": [
    "由python编写的setup脚本一般都非常简单。作为autoconf类型的配置脚本，setup脚本可以在构建和安装模块发布时运行多次。\n",
    "\n",
    "比如，如果需要发布一个叫做foo的模块，它包含在一个文件foo.py，那setup脚本可以这样写："
   ]
  },
  {
   "cell_type": "code",
   "execution_count": 3,
   "metadata": {},
   "outputs": [],
   "source": [
    "from distutils.core import setup\n",
    "setup(name='foo',\n",
    "       version='1.0',\n",
    "       py_modules=['foo'],\n",
    "      )"
   ]
  },
  {
   "cell_type": "markdown",
   "metadata": {},
   "source": [
    "setup函数的参数分为两类：包的元数据（包名、版本号）以及包的信息（本例中是一个Python模块的列表）；模块由模块名表示，而不是文件名（对于包和扩展而言也是这样）；建议可以提供更多的元数据，比如你的名字，email地址和项目的URL地址。\n"
   ]
  },
  {
   "cell_type": "markdown",
   "metadata": {},
   "source": [
    "编写好setup.py之后，就可以创建该模块的源码发布了：\n",
    "\n",
    "$ python setup.py sdist\n",
    "\n",
    "$ setup.py sdist （windows下）\n",
    "\n",
    "sdist命令会创建一个archive文件（比如Unix上的tar文件，Windows上的zip文件），它包含setup.py，foo.py。该archive文件命名为foo-1.0.tar.gz(zip)，解压之后的目录名是foo-1.0。\n",
    "\n",
    "安装foo模块，只需要下载foo-1.0.tar.gz，解压，进入foo-1.0目录，然后运行：\n",
    "\n",
    "$ python setup.py install\n",
    "\n",
    "运行install命令，会首先运行build命令，然后运行子命令install_lib,install_data和install_scripts。\n",
    "\n",
    "该命令最终会将foo.py复制到Python环境存放第三方模块的目录中。\n",
    "\n",
    "该命令生成的文件是：\n",
    "\n",
    "/usr/lib/python2.7/site-packages/foo-1.0-py2.7.egg-info\n",
    "\n",
    "/usr/lib/python2.7/site-packages/foo.py\n",
    "\n",
    "/usr/lib/python2.7/site-packages/foo.pyc"
   ]
  },
  {
   "cell_type": "markdown",
   "metadata": {},
   "source": [
    "如果希望使用者的使用尽可能的简单，则可以创建多个构建发布。比如，如果在Windows中，可以使用bdist_wininst命令创建一个exe安装文件：\n",
    "\n",
    "$ python setup.py bdist_wininst\n",
    "\n",
    "该命令会在当前目录中创建foo-1.0.win32.exe文件。\n",
    "\n",
    "其他的构建发布有RPM（由bdist_rpm命令实现），Solaris pkgtool（bdist_pkgtool），以及HP-UX swinstall (bdist_sdux)。\n",
    "\n",
    "可以通过下面的命令得到当前支持的发布格式：\n",
    "\n",
    "$ python setup.py bdist --help-formats"
   ]
  },
  {
   "cell_type": "markdown",
   "metadata": {},
   "source": [
    "#### Distutils术语\n",
    "\n",
    "模块发布（module distribution）：一些Python模块的集合，它们将会被一起安装。一些常见的模块发布有Numeric Python，PyXML，PIL，mxBase。\n",
    "\n",
    "纯模块发布：一个只包含纯python模块和包的模块发布。\n",
    "\n",
    "非纯模块发布：至少包含一个扩展模块的模块发布。\n",
    "\n",
    "发布根：源码树的根目录；setup.py所在的目录。"
   ]
  },
  {
   "cell_type": "markdown",
   "metadata": {},
   "source": [
    "#### 编写setup脚本\n",
    "setup脚本是使用Distutils构建、发布和安装模块的核心。setup脚本的作用是向Distutils描述发布模块的信息。setup脚本主要是调用setup函数，而且模块开发者向Distutils提供的模块信息多数是由setup函数的关键字参数提供的。"
   ]
  },
  {
   "cell_type": "code",
   "execution_count": null,
   "metadata": {},
   "outputs": [],
   "source": [
    "setup(name='Distutils',\n",
    "      version='1.0',\n",
    "      description='Python Distribution Utilities',\n",
    "      author='Greg Ward',\n",
    "      author_email='gward@python.net',\n",
    "      url='https://www.python.org/sigs/distutils-sig/',\n",
    "      packages=['distutils', 'distutils.command'],\n",
    "     )"
   ]
  },
  {
   "cell_type": "markdown",
   "metadata": {},
   "source": [
    "#### 基本参数\n",
    "注意：setup脚本中的路径必须以Unix形式来书写，也就是由”/”分割的。\n",
    "\n",
    "packages参数是一个列表，其中包含了Distutils需要处理（构建、发布、安装等）的所有包。要实现此目的，那么包名和目录名必须能够相互对应，比如包名是distutils，则意味着在发布的根目录（setup脚本所在目录）下存在distutils子目录；\n",
    "\n",
    "再比如在setup脚本中packages = ['foo']，意味着要在setup脚本所在目录下存在相应的foo目录和foo/__init__.py文件。\n",
    "\n",
    "可以使用package_dir选项来改变这种默认的对应规则。package_dir是个字典，其中的key是要安装的包名，如果为空，则表明是root package，value就是该包（key）对应的源码树的目录。"
   ]
  },
  {
   "cell_type": "markdown",
   "metadata": {},
   "source": [
    "发布中仅包含较少的模块，你可能更喜欢列出所有模块，而不是列出包，特别是在root package中存在单一模块的情况（或者根本就没有包）。可以使用py_modules参数。例如：\n",
    "\n",
    "$ setup(name='foo',\n",
    "      version='1.0',\n",
    "      py_modules = ['mod1', 'pkg.mod2']\n",
    "     )"
   ]
  },
  {
   "cell_type": "markdown",
   "metadata": {},
   "source": [
    "#### 扩展模块\n",
    "\n",
    "在Distutils中描述扩展模块较描述纯python模块要复杂一些。对于纯python模块，仅需要列出模块或包，然后Distutils就会去寻找合适的文件，这对于扩展模块来说是不够的，你还需要指定扩展名、源码文件以及其他编译/链接需要的参数（需要包含的目录，需要连接的库等等）。\n",
    "\n",
    "描述扩展模块可以由setup函数的关键字参数ext_modules实现。ext_modules是Extension实例的列表，每一个Extension实例描述了一个独立的扩展模块。\n",
    "\n",
    "比如发布中包含一个独立的扩展模块称为foo，由foo.c实现，且无需其他编译链接指令，下述语句即可描述该扩展模块：\n",
    "\n",
    "$ Extension('foo', ['foo.c'])\n",
    "\n",
    "Extension类在描述Python扩展时具有很大的灵活性。\n",
    "\n",
    "通常，Extension类的构造函数的第一个参数都是扩展的名字，比如下面的语句：\n",
    "\n",
    "$ Extension('foo', ['src/foo1.c', 'src/foo2.c'])\n",
    "\n",
    "如果执行python  setup.py bdist，就会调用相应的编译器和连接器命令，最终根据生成foo.so文件，存放在发布包的根目录中。\n",
    "\n",
    "如果一个包下有多个扩展，而且要把这些扩展都放在统一的目录下，则可以使用ext_package关键字。\n",
    "\n",
    "Extension构建函数的第二个参数是源文件的列表。目前Distutils仅支持C、C++和Objective-C扩展，所以这些源码文件就是C、C++和Objective-C的源码文件。\n",
    "\n",
    "还可以在列表中包含SWIG接口文件（.i文件），build_ext命令知道如何处理SWIG接口文件。例如：\n",
    "\n",
    "$ ext_modules=[Extension('_foo', ['foo.i'], swig_opts=['-modern', '-I../include'])]\n",
    "\n",
    "Extension还可以指定其他选项，比如可以指定头文件目录，define或undefine宏、需要链接的库等。"
   ]
  },
  {
   "cell_type": "markdown",
   "metadata": {},
   "source": [
    "#### 发布和包的关系\n",
    "\n",
    "发布和包有三种关系：它依赖其他包，它服务于其他包，它淘汰其他包。这些关系可以分别用setup函数的参数requires ，provides 和obsoletes 来指定。\n",
    "\n",
    "https://docs.python.org/2/distutils/setupscript.html#relationships-between-distributions-and-packages"
   ]
  },
  {
   "cell_type": "markdown",
   "metadata": {},
   "source": [
    "#### 安装脚本\n",
    "\n",
    "模块通常不自己运行，而是由脚本引入。除了可以安装模块之外，还可以安装能直接运行的脚本。\n",
    "\n",
    "https://docs.python.org/2/distutils/setupscript.html#installing-scripts\n"
   ]
  },
  {
   "cell_type": "markdown",
   "metadata": {},
   "source": [
    "#### 安装package data\n",
    "\n",
    "有时包中还需要安装其他文件，这些文件与包的实现密切相关，或者是包含文档信息的文本文件等，这些文件就叫做package data。\n",
    "\n",
    "package_data参数可以向packages中添加package data。该参数的值必须是个字典，字典的key就是package name，value是个list，其中包含了需要复制到package中的一系列路径。这些路径都是相对于包目录而言的（比如package_dir），所以，这些文件必须存在于包的源码目录中。在安装时，也会创建相应的目录。"
   ]
  },
  {
   "cell_type": "markdown",
   "metadata": {},
   "source": [
    "#### 安装其他文件\n",
    "\n",
    "可以通过data_files选项来安装除了上面提到过的文件之外的其他文件，比如配置文件，数据文件等。data_files是个列表，列表中的元素是(directory, files).\n",
    "\n",
    "directory表示文件最终要被安装到的地方，如果它是相对路径的话，则是相对于installation prefix而言（对于纯python包而言，就是sys.prefix；对于扩展包，则是sys.exec_prefix）。files是要安装的文件，其中的目录信息（安装前）是相对于setup.py所在目录而言的，安装时，setup.py根据files的信息找到该文件，然后将其安装到directory中。"
   ]
  },
  {
   "cell_type": "markdown",
   "metadata": {},
   "source": [
    "#### 元数据\n",
    "Setup脚本可以包含很多发布的元数据，比如名称、版本、作者等信息，具体列表和注意信息，参阅\n",
    "\n",
    "https://docs.python.org/2/distutils/setupscript.html#additional-meta-data"
   ]
  },
  {
   "cell_type": "markdown",
   "metadata": {},
   "source": [
    "#### 自动安装依赖\n",
    "\n",
    "应用会依赖于第三方的Python包，虽然可以在说明文件中要求用户提前安装依赖包，用户还有可能装错版本。其实我们可以在setup.py文件中指定依赖包，然后在使用setuptools安装应用时，依赖包的相应版本就会被自动安装。使用”install_requires”参数即可实现。\n",
    "\n",
    " install_requires=[\n",
    "        'Flask>=0.10',\n",
    "        'Flask-SQLAlchemy>=1.5,<=2.1']"
   ]
  },
  {
   "cell_type": "markdown",
   "metadata": {},
   "source": [
    "#### 其它参数\n",
    "install_requires参数：需要安装的依赖包，列表"
   ]
  },
  {
   "cell_type": "markdown",
   "metadata": {},
   "source": [
    "### 配置文件\n",
    "\n",
    "一般情况下，在构建发布时无法将所有的选项都确定下来，有些选项的值可能来自于用户，或者用户的系统。这也就是配置文件setup.cfg存在的目的，用户可以通过修改该配置文件进行选项的配置。\n",
    "\n",
    "在构建时，选项的处理顺序是setup脚本、配置文件，命令行。所以，安装者可以通过修改setup.cfg文件来覆盖setup.py中的选项；也可以通过运行setup.py时的命令行选项，来覆盖setup.cfg。\n",
    "\n",
    "配置文件的基本语法如下：\n",
    "\n",
    "[command]\n",
    "\n",
    "option=value\n",
    "\n",
    "...\n",
    "\n",
    "command就是Distutils的命令（比如build_py，install等），option就是命令支持的选项。配置文件中的空行、注释（以’#’开头，直到行尾）会被忽略。\n",
    "\n",
    "https://docs.python.org/2/distutils/configfile.html"
   ]
  },
  {
   "cell_type": "markdown",
   "metadata": {},
   "source": [
    "### 源码发布\n",
    "\n",
    "之前已经提到过，使用sdist命令可以创建包的源码发布，该命令最终生成一个archive文件。Unix上默认的文件格式是.tar.gz，在Windows上的是ZIP文件。可以使用”--formats”选项指定生成的格式，比如：python setup.py sdist --formats=gztar,zip，执行该命令后，就会生成两个文件foo-1.0.tar.gz 和foo-1.0.zip。"
   ]
  },
  {
   "cell_type": "markdown",
   "metadata": {},
   "source": [
    "#### 指定发布的文件\n",
    "\n",
    "如果没有明确的列出需要发布的文件，则sdist命令默认在源码发布中包含下列文件：\n",
    "\n",
    "由py_modules和packages选项指定的所有python源码文件；\n",
    "\n",
    "由ext_modules或libraries选项指定的所有C源码文件；\n",
    "\n",
    "由scripts指定的脚本；\n",
    "\n",
    "测试脚本：test/test*.py；\n",
    "\n",
    "README.txt (或者README)， setup.py 和setup.cfg；\n",
    "\n",
    "package_data指定的所有文件；\n",
    "\n",
    "data_files指定的所有文件。\n",
    "\n",
    "如果还需要发布其他额外的文件，典型的做法是编写一个叫做MANIFEST.in的manifest模板。manifest模板包含如何创建MANIFEST文件的一系列指令，sdist命令会解析该模板，根据模板中的指令，以及找到的文件生成MANIFEST。"
   ]
  },
  {
   "cell_type": "markdown",
   "metadata": {},
   "source": [
    "### 构建发布（Built Distributions）\n",
    "\n",
    "所谓的构建发布（built distribution），即是指二进制包，或是指安装文件。当然它未必真的是二进制，而有可能包含Python源码和字节码。\n",
    "\n",
    "创建包的构建发布，是前面介绍的packager的主要职责。它们拿到包的源码发布之后，使用setup脚本以及bdist命令来生成构建发布。比如，在包的源码树中运行下面的命令：\n",
    "\n",
    "$ python setup.py bdist\n",
    "\n",
    "Distutils就会创建发布，执行“伪”安装（在build目录中），并且创建当前平台下的默认格式的构建发布。构建发布在Unix中的默认格式是一个”dumb”的tar文件（之所以称之为”dumb”，是因为该tar文件只有解压到特定的目录下才能工作），而在Windows上是一个简单可执行安装文件。\n",
    "\n",
    "所以，在Unix上运行上面的命令之后，就会在dist目录中生成foo-1.0.linux-i686.tar.gz文件，在合适的位置解压该文件，就安装了foo模块，等同于下载了该模块的源码发布之后运行python setup.py install命令。所谓合适的位置，要么是文件系统的根目录，要么是Python的prefix目录，这取决于bdist_dump的命令选项。\n",
    "\n",
    "bdist命令有一个--formats选项，类似于sdist命令，该选项可用于指定生成的构建发布的格式，比如命令：\n",
    "\n",
    "$ python setup.py bdist --format=zip\n",
    "\n",
    "在Unix上运行该命令，就会创建foo-1.0.linux-i686.zip文件\n"
   ]
  },
  {
   "cell_type": "markdown",
   "metadata": {},
   "source": [
    "### setup.py常用命令\n",
    "standard commands(标准命令)是distutils内建命令，而Extra commands（附加命令）是像setuptools这样的第三方包创建的。"
   ]
  },
  {
   "cell_type": "markdown",
   "metadata": {},
   "source": [
    "sdist：用来创建一个源码包，在windows下为zip格式，linux下为tag.gz格式\n",
    "\n",
    "bdist_egg:用来创建一个二进制分发版本，经常用来替代基于bdist生成的模式\n",
    "\n",
    "install：安装包到python中。另外，他还可能会安装在setup.py中的install_requires定义的相关模块\n",
    "\n",
    "编译并且在适当的位置安装包，然后添加一个简单的链接到python site-packages文件夹中，可以使用显式的-u选项删除包\n",
    "\n",
    "创建一个新命令：这是由setuptools引入的，是一种将包定义为插件的简单方法，示例：\n",
    "\n",
    "...entry_points='''[distutils.commands]my_command=my.command.module.Class'''"
   ]
  },
  {
   "cell_type": "markdown",
   "metadata": {},
   "source": []
  },
  {
   "cell_type": "markdown",
   "metadata": {},
   "source": [
    "## Python打包分发工具setuptools \n",
    "setuptools相当地简单易用。它会随着Python一起安装在你的机器上。你只需写一个简短的setup.py安装文件，就可以将你的Python应用打包。\n",
    "\n",
    "Eggs 格式是 setuptools 引入的一种文件格式，它使用 .egg 扩展名，用于 Python 模块的安装。setuptools 可以识别这种格式。并解析它，安装它。"
   ]
  },
  {
   "cell_type": "markdown",
   "metadata": {},
   "source": [
    "#### 创建egg包\n",
    "$ python setup.py bdist_egg"
   ]
  },
  {
   "cell_type": "markdown",
   "metadata": {},
   "source": [
    "question：setup与git结合（版本问题）；安装库是32位还是64位的问题？"
   ]
  },
  {
   "cell_type": "markdown",
   "metadata": {},
   "source": [
    "## Distribute\n",
    "distribute 是 setuptools 的一个分支版本。分支的原因可能是有一部分开发者认为 setuptools 开发太慢了。但现在，distribute 又合并回了 setuptools 中。因此，我们可以认为它们是同一个东西。事实上，如果你查看一下 easy_install 的版本，会发现它本质上就是 distribute 。"
   ]
  },
  {
   "cell_type": "markdown",
   "metadata": {},
   "source": [
    "## setuptools-git-version\n",
    "新版本：very-good-setuptools-git-version\n",
    "\n",
    "项目介绍：从Git自动设置包版本。而不是在setup.py中硬编码包版本，如：\n",
    "\n",
    "setup （\n",
    "    name = 'foobar' ，\n",
    "    version = '1.0' ，\n",
    "    ... ）\n",
    "\n",
    "这个包允许从底层的Git存储库中提取它：\n",
    "\n",
    "setup （\n",
    "    name = 'foobar' ，\n",
    "    version_format = '{tag} .dev {commitcount} + {gitsha}' ，\n",
    "    setup_requires = [ 'setuptools-git-version' ]，\n",
    "    ... ）"
   ]
  },
  {
   "cell_type": "markdown",
   "metadata": {},
   "source": [
    "1、packages告诉Distutils需要处理那些包（包含__init__.py的文件夹）\n",
    "\n",
    "2、package_dir告诉Distutils哪些目录下的文件被映射到哪个源码包，感觉好像是一个相对路径的定义。一个例子：package_dir = {'': 'lib'}，表示以lib为主目录。\n",
    "\n",
    "3、ext_modules是一个包含Extension实例的列表，Extension的定义也有一些参数。\n",
    "\n",
    "4、ext_package定义extension的相对路径。\n",
    "\n",
    "5、requires定义依赖哪些模块。\n",
    "\n",
    "6、provides定义可以为哪些模块提供依赖。\n",
    "\n",
    "7、scripts指定python源码文件，可以从命令行执行。在安装时指定--install-script\n",
    "\n",
    "8、package_data通常包含与包实现相关的一些数据文件或类似于readme的文件。\n",
    "package_data = {'': ['*.txt'], 'mypkg': ['data/*.dat'],}表示包含所有目录下的txt文件和mypkg/data目录下的所有dat文件。\n",
    "\n",
    "9、data_files指定其他的一些文件（如配置文件）\n",
    "\n",
    "setup(...,\n",
    "      data_files=[('bitmaps', ['bm/b1.gif', 'bm/b2.gif']),\n",
    "                  ('config', ['cfg/data.cfg']),\n",
    "                  ('/etc/init.d', ['init-script'])]\n",
    "     )\n",
    "\n",
    "规定了哪些文件被安装到哪些目录中。如果目录名是相对路径，则是相对于sys.prefix或sys.exec_prefix的路径。如果没有提供模板，会被添加到MANIFEST文件中。\n",
    "\n",
    "执行sdist命令时，默认会打包哪些东西呢？\n",
    "    1.所有由py_modules或packages指定的源码文件\n",
    "    2.所有由ext_modules或libraries指定的C源码文件\n",
    "    3.由scripts指定的脚本文件\n",
    "    4.类似于test/test*.py的文件\n",
    "    5.README.txt或README，setup.py，setup.cfg\n",
    "    6.所有package_data或data_files指定的文件\n",
    "\n",
    "还有一种方式是写一个manifest template，名为MANIFEST.in，定义如何生成MANIFEST文件，内容就是需要包含在分发包中的文件。一个MANIFEST.in文件如下：\n",
    "include *.txt\n",
    "recursive-include examples *.txt *.py\n",
    "prune examples/sample?/build\n"
   ]
  },
  {
   "cell_type": "code",
   "execution_count": null,
   "metadata": {},
   "outputs": [],
   "source": []
  }
 ],
 "metadata": {
  "kernelspec": {
   "display_name": "Python 3",
   "language": "python",
   "name": "python3"
  },
  "language_info": {
   "codemirror_mode": {
    "name": "ipython",
    "version": 3
   },
   "file_extension": ".py",
   "mimetype": "text/x-python",
   "name": "python",
   "nbconvert_exporter": "python",
   "pygments_lexer": "ipython3",
   "version": "3.6.5"
  }
 },
 "nbformat": 4,
 "nbformat_minor": 2
}
