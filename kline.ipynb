{
 "cells": [
  {
   "cell_type": "code",
   "execution_count": 2,
   "metadata": {},
   "outputs": [],
   "source": [
    "import pandas as pd\n",
    "import os\n",
    "import json\n",
    "import time\n",
    "import matplotlib.pyplot as plt\n",
    "import functools"
   ]
  },
  {
   "cell_type": "code",
   "execution_count": 3,
   "metadata": {},
   "outputs": [],
   "source": [
    "data_root= \"./data_root\""
   ]
  },
  {
   "cell_type": "code",
   "execution_count": 18,
   "metadata": {},
   "outputs": [],
   "source": [
    "def get_dir():\n",
    "    path = '/home/data/jupyter_root/data_root/3001'\n",
    "    fullpath = []\n",
    "    for dirpath,dirnames,filenames in os.walk(path):\n",
    "        for file in filenames:\n",
    "                p=os.path.join(dirpath,file)\n",
    "                fullpath.append(p)\n",
    "    return fullpath\n",
    "\n",
    "def trans_root(row_path,period=60): #transfer file path\n",
    "    path_part = row_path.strip().split('/')\n",
    "    if path_part[-4]=='LME': #'3001/LME/0/LMCADS03/20180725'\n",
    "        date = path_part[-1]\n",
    "        code = path_part[-2]\n",
    "        market = path_part[-4]\n",
    "        expiry_date = None\n",
    "    else:\n",
    "        date = path_part[-1]\n",
    "        expiry_date = path_part[-2]\n",
    "        code = path_part[-3]\n",
    "        market = path_part[-5]\n",
    "    if period == 60:\n",
    "        if expiry_date == None:\n",
    "            return \"{meta}/{market}/{period}/{code}\".format(meta=3002, market=market, period=period, code=code),date\n",
    "        else:\n",
    "            return \"{meta_id}/{market}/{period}/{code}/{YM}\".format(meta_id=3002,market=market,period=period,code=code,YM=expiry_date),date\n",
    "    elif period == 86400:\n",
    "        if expiry_date == None:\n",
    "            return \"{meta_id}/{market}/{period}/{code}\".format(meta_id=3002, market=market, period=period, code=code),code\n",
    "        else:\n",
    "            return \"{meta_id}/{market}/{period}/{code}/{YM}\".format(meta_id=3002,market=market,period=period,code=code,YM=expiry_date),expiry_date\n",
    "    else:\n",
    "        return None\n",
    "    \n",
    "def get_kline(x, last=[1]):\n",
    "    if x.empty:\n",
    "        d = {\"o\": last[0],\"h\": last[0], \"l\": last[0], \"c\":last[0], 'v':0}\n",
    "    else:\n",
    "        d = {\"o\": x.price.iloc[0],\"h\": x.price.max(), \"l\": x.price.min(), \"c\":x.price.iloc[-1], \"v\":x.vol.sum()}\n",
    "        last[0] = d['c']\n",
    "    return pd.Series(d)\n",
    "\n",
    "def save(key,name,data):\n",
    "    if key:\n",
    "        _path = os.path.join(data_root, key)\n",
    "        if not os.path.exists(_path):\n",
    "            os.makedirs(_path)\n",
    "        with open(os.path.join(_path, name),'w') as fp:\n",
    "            data.to_json(fp, orient='records')\n",
    "            \n",
    "def transfer_kline(file_path,key,file_name): #for minute klines\n",
    "    with open(file_path,'r') as fp:\n",
    "        data = pd.read_json(fp)\n",
    "        data.times = pd.DatetimeIndex(data.times) # .tz_localize('Asia/Shanghai')\n",
    "        data = data.set_index('times')\n",
    "        try:\n",
    "            if len(data) == 1:\n",
    "                kline_data = data.resample('T',closed='right').apply(functools.partial(get_kline,last=[data.iloc[0].price]))\n",
    "                #kline_data=pd.DataFrame({\"o\":data_price,\"h\":data_price,\"l\":data_price,\"c\":data_price,'v':0},index=data.index)    \n",
    "            else:\n",
    "                kline_data = data.iloc[1:].resample('T',closed='right').apply(functools.partial(get_kline,last=[data.iloc[1].price]))\n",
    "        except Exception as err:\n",
    "            print(file_path,'error')\n",
    "            return None\n",
    "        kline_data['times'] = kline_data.index\n",
    "        kline_data = kline_data.reindex(columns=['times','c','h','l','o','v'])\n",
    "        save(key,file_name,kline_data)\n",
    "        #print(file_name,'finish')\n",
    "        return None\n"
   ]
  },
  {
   "cell_type": "code",
   "execution_count": 16,
   "metadata": {},
   "outputs": [],
   "source": [
    "def transfer_all_history():\n",
    "    all_file = get_dir()\n",
    "    for file in all_file:\n",
    "        key,file_name = trans_root(file,period=60)\n",
    "        transfer_kline(file,key,file_name)\n",
    "    print(\"all_done\")\n",
    "        \n",
    "def transfer_daily(count=1): #reansfer recent (count) days data\n",
    "    all_file = get_dir()\n",
    "    file_names = set()\n",
    "    for file in all_file:\n",
    "        key,file_name = trans_root(file,period=60)\n",
    "        file_names.add(file_name)\n",
    "    file_names=sorted(list(file_names))\n",
    "    date = file_names[-count]\n",
    "    for file in all_file:\n",
    "        key,file_name = trans_root(file,period=60)\n",
    "        if file_name == date:\n",
    "            transfer_kline(file,key,file_name)\n",
    "        else:\n",
    "            continue\n",
    "    print('all done')"
   ]
  },
  {
   "cell_type": "code",
   "execution_count": 6,
   "metadata": {},
   "outputs": [],
   "source": [
    "def trans_day_kline(file_path):\n",
    "    with open(file_path,'r') as f:\n",
    "        data = pd.read_json(f)\n",
    "        data.times = pd.DatetimeIndex(data.times)\n",
    "        data = data.set_index('times')\n",
    "        data1 = data.resample(\"D\").apply(functools.partial(get_kline, last=[data.iloc[0].price]))  #, closed=\"right\"\n",
    "        data1['times']=data1.index\n",
    "        data1 = data1.reindex(columns=['times','c','h','l','o','v'])\n",
    "        return data1"
   ]
  },
  {
   "cell_type": "code",
   "execution_count": 7,
   "metadata": {},
   "outputs": [],
   "source": [
    "def trans_daykline_allhistory():\n",
    "    #transfer_all_history about day_kline\n",
    "    path = '/home/data/jupyter_root/data_root/3001'\n",
    "    all_keys = []\n",
    "    for dirpath,dirname,filenames in os.walk(path):\n",
    "        all_keys.append(dirpath)\n",
    "        all_files = []\n",
    "        df_list = []\n",
    "        date_list = []\n",
    "        for file in filenames:\n",
    "            p = os.path.join(dirpath,file)\n",
    "            all_files.append(p) #all file\n",
    "        if all_files == []:\n",
    "            pass\n",
    "        else:\n",
    "            for real_file in sorted(all_files):\n",
    "                key,file_name = trans_root(real_file,period=86400) \n",
    "                try:\n",
    "                    data1 = trans_day_kline(real_file)\n",
    "                    df_list.append(data1)\n",
    "                except Exception as err:\n",
    "                    print(file,'error')\n",
    "#         date_list = sorted(date_list)\n",
    "#         start_date = date_list[0]\n",
    "#         end_date = date_list[-1]\n",
    "            data2 = pd.concat(df_list)\n",
    "            #print(data2,file_name)\n",
    "            save(data=data2,key=key,name=file_name)\n",
    "            print(key,'finish')\n",
    "    print('all done')"
   ]
  },
  {
   "cell_type": "code",
   "execution_count": 19,
   "metadata": {},
   "outputs": [],
   "source": [
    "trans_daykline_allhistory()"
   ]
  },
  {
   "cell_type": "code",
   "execution_count": 17,
   "metadata": {
    "scrolled": false
   },
   "outputs": [],
   "source": [
    "def transfer_daykline_daily(): #transfer recent one day(must persist)\n",
    "    all_file = get_dir()\n",
    "    file_names = set()\n",
    "    for file in all_file:\n",
    "        key,file_name = trans_root(file,period=60)\n",
    "        file_names.add(file_name)\n",
    "    file_names=sorted(list(file_names))\n",
    "    date = file_names[-1] #most recent day\n",
    "    for file in all_file:\n",
    "        _key,file_date = trans_root(file,period=60) #解析路径,得到date\n",
    "        key,file_name = trans_root(file,period=86400) #得到day_kline 路径 \n",
    "        if file_date == date:\n",
    "            data_new = trans_day_kline(file) #transfer recentday kline\n",
    "        else:\n",
    "            continue\n",
    "        kline_file = os.path.join(os.path.join(data_root, key),file_name)\n",
    "        with open(kline_file ,'r') as f:\n",
    "            data = pd.read_json(f)\n",
    "            data.times = pd.DatetimeIndex(data.times*1000000) #transfer ?\n",
    "            recent_day = pd.Timestamp(data.times.iloc[-1])\n",
    "            if recent_day == pd.Timestamp(date):\n",
    "                continue\n",
    "            else:\n",
    "                data_update = pd.concat([data,data_new])\n",
    "            \n",
    "            save(data=data_update,key=key,name=file_name)\n",
    "            print(key)\n",
    "    print('all done')"
   ]
  },
  {
   "cell_type": "code",
   "execution_count": 20,
   "metadata": {},
   "outputs": [],
   "source": [
    "transfer_daykline_daily()"
   ]
  },
  {
   "cell_type": "code",
   "execution_count": 501,
   "metadata": {},
   "outputs": [
    {
     "name": "stdout",
     "output_type": "stream",
     "text": [
      "2018-08-06 00:00:00\n"
     ]
    }
   ],
   "source": [
    "all_file = get_dir()\n",
    "file_names = set()\n",
    "for file in all_file:\n",
    "    key,file_name = trans_root(file,period=60)\n",
    "    file_names.add(file_name)\n",
    "file_names=sorted(list(file_names))\n",
    "date = pd.Timestamp(file_names[-1]) #grt recent day\n",
    " \n",
    "with open('/home/data/jupyter_root/data_root/3002/DCE/86400/C/201903/201903','r') as f:\n",
    "    data = pd.read_json(f)\n",
    "    data.times = pd.DatetimeIndex(data.times*1000000)\n",
    "    recent_day = data.times.iloc[-1]\n",
    "    print(pd.Timestamp(recent_day))\n",
    "    \n",
    "#print(pd.Timestamp(date) == pd.Timestamp(recent_day))"
   ]
  },
  {
   "cell_type": "code",
   "execution_count": 9,
   "metadata": {},
   "outputs": [
    {
     "name": "stdout",
     "output_type": "stream",
     "text": [
      "all done\n"
     ]
    }
   ],
   "source": [
    "transfer_daily()"
   ]
  },
  {
   "cell_type": "code",
   "execution_count": null,
   "metadata": {},
   "outputs": [],
   "source": [
    "data1=data.iloc[1:].resample(\"T\", closed=\"right\").apply(functools.partial(get_kline, last=[data.iloc[1].price])) \n",
    "data1"
   ]
  },
  {
   "cell_type": "code",
   "execution_count": 318,
   "metadata": {},
   "outputs": [
    {
     "data": {
      "text/html": [
       "<div>\n",
       "<style scoped>\n",
       "    .dataframe tbody tr th:only-of-type {\n",
       "        vertical-align: middle;\n",
       "    }\n",
       "\n",
       "    .dataframe tbody tr th {\n",
       "        vertical-align: top;\n",
       "    }\n",
       "\n",
       "    .dataframe thead th {\n",
       "        text-align: right;\n",
       "    }\n",
       "</style>\n",
       "<table border=\"1\" class=\"dataframe\">\n",
       "  <thead>\n",
       "    <tr style=\"text-align: right;\">\n",
       "      <th></th>\n",
       "      <th>times</th>\n",
       "      <th>c</th>\n",
       "      <th>h</th>\n",
       "      <th>l</th>\n",
       "      <th>o</th>\n",
       "      <th>v</th>\n",
       "    </tr>\n",
       "    <tr>\n",
       "      <th>times</th>\n",
       "      <th></th>\n",
       "      <th></th>\n",
       "      <th></th>\n",
       "      <th></th>\n",
       "      <th></th>\n",
       "      <th></th>\n",
       "    </tr>\n",
       "  </thead>\n",
       "  <tbody>\n",
       "    <tr>\n",
       "      <th>2018-07-25</th>\n",
       "      <td>2018-07-25</td>\n",
       "      <td>6305.5</td>\n",
       "      <td>6331.0</td>\n",
       "      <td>6241.0</td>\n",
       "      <td>6269.0</td>\n",
       "      <td>13951.0</td>\n",
       "    </tr>\n",
       "  </tbody>\n",
       "</table>\n",
       "</div>"
      ],
      "text/plain": [
       "                times       c       h       l       o        v\n",
       "times                                                         \n",
       "2018-07-25 2018-07-25  6305.5  6331.0  6241.0  6269.0  13951.0"
      ]
     },
     "execution_count": 318,
     "metadata": {},
     "output_type": "execute_result"
    }
   ],
   "source": [
    "path = '/home/data/jupyter_root/data_root/3001/LME/0/LMCADS03/20180725'\n",
    "with open(path,'r') as f:\n",
    "    key,filename = trans_root(path,period=60)\n",
    "    data = pd.read_json(f)\n",
    "    data.times = pd.DatetimeIndex(data.times) #.tz_localize(\"Asia/Shanghai\")# \"America/New_York\" \"Asia/Shanghai\"\n",
    "    data = data.set_index('times')\n",
    "    #data1=data.iloc[1:].resample(\"D\", closed=\"right\").apply(functools.partial(get_kline, last=[data.iloc[1].price])) \n",
    "    data1=data.resample(\"D\", closed=\"right\").apply(functools.partial(get_kline, last=[data.iloc[0].price])) \n",
    "    data1['times']=data1.index\n",
    "    data1 = data1.reindex(columns=['times','c','h','l','o','v'])\n",
    "\n",
    "data1"
   ]
  },
  {
   "cell_type": "code",
   "execution_count": 208,
   "metadata": {},
   "outputs": [],
   "source": [
    "with open('./data_root/3001/SHFE/0/AL/201809/20180801','r') as f:\n",
    "    data = pd.read_json(f)\n",
    "    data.times = pd.DatetimeIndex(data.times).tz_localize(\"Asia/Shanghai\")# \"America/New_York\"\n",
    "#     #data.times = pd.DatetimeIndex(([time.strftime(\"%Y-%m-%d %H:%M:%S\", time.localtime(int(t[:10]))) for t in ts]))\n",
    "    data = data.set_index('times')\n",
    "import functools\n",
    "data1=data.iloc[1:].resample(\"D\", closed=\"right\").apply(functools.partial(get_kline, last=[data.iloc[1].price]))   # \"T\":minute\n",
    "data1.to_json('/home/data/jupyter_root/data_root/3002/tt')"
   ]
  },
  {
   "cell_type": "code",
   "execution_count": 353,
   "metadata": {},
   "outputs": [
    {
     "name": "stdout",
     "output_type": "stream",
     "text": [
      "20180725to20180803\n",
      "                times      c      h      l      o      v\n",
      "times                                                   \n",
      "2018-07-25 2018-07-25  14470  14490  14420  14475  38732\n",
      "2018-07-26 2018-07-26  14390  14425  14360  14390  37922\n",
      "2018-07-27 2018-07-27  14445  14505  14410  14440  55682\n",
      "2018-07-30 2018-07-30  14490  14530  14460  14470  54120\n",
      "2018-07-31 2018-07-31  14575  14650  14530  14550  62132\n",
      "2018-08-01 2018-08-01  14580  14615  14500  14585  62562\n",
      "2018-08-02 2018-08-02  14405  14475  14315  14445  95104\n",
      "2018-08-03 2018-08-03  14465  14530  14430  14450  81886\n"
     ]
    }
   ],
   "source": [
    "path_new = '/home/data/jupyter_root/data_root/3001/SHFE/0/AL/201810'\n",
    "for dirpath,dirnames,filenames in os.walk(path_new):\n",
    "    l = []\n",
    "    l_date = []\n",
    "    df_list = []\n",
    "    for file in filenames:\n",
    "        real_path=os.path.join(dirpath,file)\n",
    "        key,date = trans_root(real_path,period=86400)\n",
    "        l_date.append(date)\n",
    "        l.append(real_path)\n",
    "    for file in sorted(l):\n",
    "        with open(file,'r') as fp:\n",
    "            data = pd.read_json(fp)\n",
    "            data.times = pd.DatetimeIndex(data.times)\n",
    "            data = data.set_index('times')\n",
    "            data1 = data.resample(\"D\", closed=\"right\").apply(functools.partial(get_kline, last=[data.iloc[0].price])) \n",
    "            data1['times']=data1.index\n",
    "            data1 = data1.reindex(columns=['times','c','h','l','o','v'])\n",
    "            df_list.append(data1)\n",
    "    l_date = sorted(l_date)\n",
    "    start_date = l_date[0]\n",
    "    end_date = l_date[-1]\n",
    "    #print(l_date)\n",
    "    key = '3002/SHFE/86400/AL/201810'\n",
    "    file_name = start_date + 'to'+end_date\n",
    "    print(file_name)\n",
    "    data2 = pd.concat(df_list)\n",
    "    print(data2)\n",
    "    save(data=data2,key=key,name=file_name)"
   ]
  },
  {
   "cell_type": "code",
   "execution_count": 416,
   "metadata": {},
   "outputs": [
    {
     "name": "stdout",
     "output_type": "stream",
     "text": [
      "                times       c       h       l       o       v\n",
      "times                                                        \n",
      "2018-07-26 2018-07-26  2587.5  2624.5  2560.0  2597.0  7558.0\n"
     ]
    }
   ],
   "source": [
    "path_new = '/home/data/jupyter_root/data_root/3001/X/0/XUC/201808/20180726'\n",
    "data1 = trans_day_kline(path_new)\n",
    "print(data1)"
   ]
  },
  {
   "cell_type": "code",
   "execution_count": 438,
   "metadata": {},
   "outputs": [
    {
     "name": "stdout",
     "output_type": "stream",
     "text": [
      "0   2018-07-26\n",
      "1   2018-07-26\n",
      "2   2018-07-26\n",
      "Name: times, dtype: datetime64[ns]\n"
     ]
    }
   ],
   "source": [
    "with open('/home/data/jupyter_root/data_root/3002/DCE/86400/C/201903/201903','r') as f:\n",
    "    data = pd.read_json(f)\n",
    "    data.times = pd.DatetimeIndex(data.times*1000000)\n",
    "    print(data.times)\n",
    "# path_new = '/home/data/jupyter_root/data_root/3001/LME/0/LMCADS03/20180725'\n",
    "# data1 = trans_day_kline(path_new)\n",
    "# print(data1)\n",
    "# data2 = pd.concat([data,data1])\n",
    "# print(data2)\n",
    "# key ='3002/DCE/86400/C/201903'\n",
    "# name = 'test'\n",
    "# save(data=data2,key=key,name=name"
   ]
  },
  {
   "cell_type": "markdown",
   "metadata": {},
   "source": [
    "A year\n",
    "M month\n",
    "W week\n",
    "D day\n",
    "H hour\n",
    "T minute\n",
    "S second\n",
    "pandas resample params"
   ]
  },
  {
   "cell_type": "code",
   "execution_count": 135,
   "metadata": {},
   "outputs": [
    {
     "data": {
      "text/plain": [
       "DatetimeIndexResampler [freq=<Minute>, axis=0, closed=left, label=left, convention=start, base=0]"
      ]
     },
     "execution_count": 135,
     "metadata": {},
     "output_type": "execute_result"
    }
   ],
   "source": [
    "data.resample(\"T\")"
   ]
  }
 ],
 "metadata": {
  "kernelspec": {
   "display_name": "Python 3",
   "language": "python",
   "name": "python3"
  },
  "language_info": {
   "codemirror_mode": {
    "name": "ipython",
    "version": 3
   },
   "file_extension": ".py",
   "mimetype": "text/x-python",
   "name": "python",
   "nbconvert_exporter": "python",
   "pygments_lexer": "ipython3",
   "version": "3.6.5"
  }
 },
 "nbformat": 4,
 "nbformat_minor": 2
}
