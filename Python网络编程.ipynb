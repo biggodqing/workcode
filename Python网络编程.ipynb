{
 "cells": [
  {
   "cell_type": "markdown",
   "metadata": {},
   "source": [
    "## 网络编程\n",
    "\n",
    "现在基本上所有的程序都是网络程序，很少有单机版的程序了。\n",
    "\n",
    "计算机网络就是把各个计算机连接到一起，让网络中的计算机可以互相通信。网络编程就是如何在程序中实现两台计算机的通信。\n",
    "\n",
    "例如，当你使用浏览器访问新浪网时，你的计算机就和新浪的某台服务器通过互联网连接起来了，然后，新浪的服务器把网页内容作为数据通过互联网传输到你的电脑上。\n",
    "\n",
    "实际上，电脑上不止浏览器，还有QQ、Skype、Dropbox、邮件客户端等，不同的程序连接的别的计算机也会不同。\n",
    "\n",
    "#### 所以，更确切地说，网络通信是两台计算机上的两个进程之间的通信。\n",
    "\n",
    "比如，浏览器进程和新浪服务器上的某个Web服务进程在通信，而QQ进程是和腾讯的某个服务器上的某个进程在通信。\n",
    "\n",
    "网络编程对所有开发语言都是一样的。用Python进行网络编程，就是在Python程序本身这个进程内，连接别的服务器进程的通信端口进行通信。"
   ]
  },
  {
   "cell_type": "markdown",
   "metadata": {},
   "source": [
    "### TCP/IP简介"
   ]
  },
  {
   "cell_type": "markdown",
   "metadata": {},
   "source": [
    "计算机为了联网，就必须规定通信协议，早期的计算机网络，都是由各厂商自己规定一套协议，IBM、Apple和Microsoft都有各自的网络协议，互不兼容。\n",
    "\n",
    "为了把全世界的所有不同类型的计算机都连接起来，就必须规定一套全球通用的协议，为了实现互联网这个目标，互联网协议簇（Internet Protocol Suite）就是通用协议标准。\n",
    "\n",
    "Internet是由inter和net两个单词组合起来的，原意就是连接“网络”的网络，有了Internet，任何私有网络，只要支持这个协议，就可以联入互联网。\n",
    "\n",
    "互联网协议包含了上百种协议标准，但是最重要的两个协议是TCP和IP协议，所以，大家把互联网的协议简称TCP/IP协议。\n",
    "\n",
    "通信的时候，双方必须知道对方的标识，好比发邮件必须知道对方的邮件地址。互联网上每个计算机的唯一标识就是IP地址，类似123.123.123.123。如果一台计算机同时接入到两个或更多的网络，比如路由器，它就会有两个或多个IP地址，所以，IP地址对应的实际上是计算机的网络接口，通常是网卡。\n",
    "\n",
    "IP协议负责把数据从一台计算机通过网络发送到另一台计算机。数据被分割成一小块一小块，然后通过IP包发送出去。由于互联网链路复杂，两台计算机之间经常有多条线路，因此，路由器就负责决定如何把一个IP包转发出去。IP包的特点是按块发送，途径多个路由，但不保证能到达，也不保证顺序到达。\n",
    "\n",
    "IP地址实际上是一个32位整数（称为IPv4），以字符串表示的IP地址如192.168.0.1实际上是把32位整数按8位分组后的数字表示，目的是便于阅读。\n",
    "\n",
    "IPv6地址实际上是一个128位整数，它是目前使用的IPv4的升级版，以字符串表示类似于2001:0db8:85a3:0042:1000:8a2e:0370:7334。\n",
    "\n",
    "TCP协议则是建立在IP协议之上的。TCP协议负责在两台计算机之间建立可靠连接，保证数据包按顺序到达。TCP协议会通过握手建立连接，然后，对每个IP包编号，确保对方按顺序收到，如果包丢掉了，就自动重发。\n",
    "\n",
    "许多常用的更高级的协议都是建立在TCP协议基础上的，比如用于浏览器的HTTP协议、发送邮件的SMTP协议等。\n",
    "\n",
    "一个TCP报文除了包含要传输的数据外，还包含源IP地址和目标IP地址，源端口和目标端口。\n",
    "#### 端口\n",
    "在两台计算机通信时，只发IP地址是不够的，因为同一台计算机上跑着多个网络程序。一个TCP报文来了之后，到底是交给浏览器还是QQ，就需要端口号来区分。每个网络程序都向操作系统申请唯一的端口号，这样，两个进程在两台计算机之间建立网络连接就需要各自的IP地址和各自的端口号。\n",
    "\n",
    "一个进程也可能同时与多个计算机建立链接，因此它会申请很多端口。"
   ]
  },
  {
   "cell_type": "markdown",
   "metadata": {},
   "source": [
    "### TCP编程\n",
    "Socket是网络编程的一个抽象概念。通常我们用一个Socket表示“打开了一个网络链接”，而打开一个Socket需要知道目标计算机的IP地址和端口号，再指定协议类型即可。\n",
    "#### 客户端\n",
    "大多数连接都是可靠的TCP连接。创建TCP连接时，主动发起连接的叫客户端，被动响应连接的叫服务器。\n",
    "\n",
    "举个例子，当我们在浏览器中访问新浪时，我们自己的计算机就是客户端，浏览器会主动向新浪的服务器发起连接。如果一切顺利，新浪的服务器接受了我们的连接，一个TCP连接就建立起来的，后面的通信就是发送网页内容了。\n",
    "\n",
    "所以，我们要创建一个基于TCP连接的Socket，可以这样做："
   ]
  },
  {
   "cell_type": "code",
   "execution_count": 26,
   "metadata": {},
   "outputs": [],
   "source": [
    "import socket\n",
    "s = socket.socket(socket.AF_INET,socket.SOCK_STREAM) # 创建一个socket\n",
    "s.connect(('www.baidu.com', 80)) # # 建立连接:连接新浪服务器"
   ]
  },
  {
   "cell_type": "markdown",
   "metadata": {},
   "source": [
    "创建Socket时，AF_INET指定使用IPv4协议，如果要用更先进的IPv6，就指定为AF_INET6。SOCK_STREAM指定使用面向流的TCP协议，这样，一个Socket对象就创建成功，但是还没有建立连接。\n",
    "\n",
    "客户端要主动发起TCP连接，必须知道服务器的IP地址和端口号。新浪网站的IP地址可以用域名 www.sina.com.cn 自动转换到IP地址；此外，作为服务器，提供什么样的服务，端口号就必须固定下来。由于我们想要访问网页，因此新浪提供网页服务的服务器必须把端口号固定在80端口，因为80端口是Web服务的标准端口。\n",
    "\n",
    "其他服务都有对应的标准端口号，例如SMTP服务是25端口，FTP服务是21端口，等等。端口号小于1024的是Internet标准服务的端口，端口号大于1024的，可以任意使用。\n",
    "\n",
    "注意连接的参数是一个tuple，包含地址和端口号。\n",
    "\n",
    "建立TCP连接后，我们就可以向新浪服务器发送请求，要求返回首页的内容："
   ]
  },
  {
   "cell_type": "code",
   "execution_count": 27,
   "metadata": {},
   "outputs": [
    {
     "data": {
      "text/plain": [
       "58"
      ]
     },
     "execution_count": 27,
     "metadata": {},
     "output_type": "execute_result"
    }
   ],
   "source": [
    "s.send(b'GET / HTTP/1.1\\r\\nHost: www.baidu.com\\r\\nConnection: close\\r\\n\\r\\n') # 发送数据"
   ]
  },
  {
   "cell_type": "markdown",
   "metadata": {},
   "source": [
    "TCP连接创建的是双向通道，双方都可以同时给对方发数据。但是谁先发谁后发，怎么协调，要根据具体的协议来决定。例如，HTTP协议规定客户端必须先发请求给服务器，服务器收到后才发数据给客户端。\n",
    "\n",
    "发送的文本格式必须符合HTTP标准，如果格式没问题，接下来就可以接收新浪服务器返回的数据了："
   ]
  },
  {
   "cell_type": "code",
   "execution_count": 28,
   "metadata": {},
   "outputs": [],
   "source": [
    "# 接收数据\n",
    "buffer = []\n",
    "while True:\n",
    "    # 每次最多接收1k字节:\n",
    "    d = s.recv(1024)\n",
    "    if d:\n",
    "        buffer.append(d)\n",
    "    else:\n",
    "        break\n",
    "data = b''.join(buffer)"
   ]
  },
  {
   "cell_type": "code",
   "execution_count": 29,
   "metadata": {},
   "outputs": [
    {
     "data": {
      "text/plain": [
       "b'HTTP/1.1 200 OK\\r\\nAccept-Ranges: bytes\\r\\nCache-Control: no-cache\\r\\nContent-Length: 14615\\r\\nContent-Type: text/html\\r\\nDate: Wed, 19 Sep 2018 08:48:49 GMT\\r\\nEtag: \"5b8641dc-3917\"\\r\\nLast-Modified: Wed, 29 Aug 2018 06:49:00 GMT\\r\\nP3p: CP=\" OTI DSP COR IVA OUR IND COM \"\\r\\nPragma: no-cache\\r\\nServer: BWS/1.1\\r\\nSet-Cookie: BAIDUID=738499E5E0CF07B501F21B3FAA961DD9:FG=1; expires=Thu, 31-Dec-37 23:55:55 GMT; max-age=2147483647; path=/; domain=.baidu.com\\r\\nSet-Cookie: BIDUPSID=738499E5E0CF07B501F21B3FAA961DD9; expires=Thu, 31-Dec-37 23:55:55 GMT; max-age=2147483647; path=/; domain=.baidu.com\\r\\nSet-Cookie: PSTM=1537346929; expires=Thu, 31-Dec-37 23:55:55 GMT; max-age=2147483647; path=/; domain=.baidu.com\\r\\nVary: Accept-Encoding\\r\\nX-Ua-Compatible: IE=Edge,chrome=1\\r\\nConnection: close\\r\\n\\r\\n<!DOCTYPE html><!--STATUS OK-->\\r\\n<html>\\r\\n<head>\\r\\n\\t<meta http-equiv=\"content-type\" content=\"text/html;charset=utf-8\">\\r\\n\\t<meta http-equiv=\"X-UA-Compatible\" content=\"IE=Edge\">\\r\\n\\t<link rel=\"dns-prefetch\" href=\"//s1.bdstatic.com\"/>\\r\\n\\t<link rel=\"dns-prefetch\" href=\"//t1.baidu.com\"/>\\r\\n\\t<link rel=\"dns-prefetch\" href=\"//t2.baidu.com\"/>\\r\\n\\t<link rel=\"dns-prefetch\" href=\"//t3.baidu.com\"/>\\r\\n\\t<link rel=\"dns-prefetch\" href=\"//t10.baidu.com\"/>\\r\\n\\t<link rel=\"dns-prefetch\" href=\"//t11.baidu.com\"/>\\r\\n\\t<link rel=\"dns-prefetch\" href=\"//t12.baidu.com\"/>\\r\\n\\t<link rel=\"dns-prefetch\" href=\"//b1.bdstatic.com\"/>\\r\\n\\t<title>\\xe7\\x99\\xbe\\xe5\\xba\\xa6\\xe4\\xb8\\x80\\xe4\\xb8\\x8b\\xef\\xbc\\x8c\\xe4\\xbd\\xa0\\xe5\\xb0\\xb1\\xe7\\x9f\\xa5\\xe9\\x81\\x93</title>\\r\\n\\t<link href=\"http://s1.bdstatic.com/r/www/cache/static/home/css/index.css\" rel=\"stylesheet\" type=\"text/css\" />\\r\\n\\t<!--[if lte IE 8]><style index=\"index\" >#content{height:480px\\\\9}#m{top:260px\\\\9}</style><![endif]-->\\r\\n\\t<!--[if IE 8]><style index=\"index\" >#u1 a.mnav,#u1 a.mnav:visited{font-family:simsun}</style><![endif]-->\\r\\n\\t<script>var hashMatch = document.location.href.match(/#+(.*wd=[^&].+)/);if (hashMatch && hashMatch[0] && hashMatch[1]) {document.location.replace(\"http://\"+location.host+\"/s?\"+hashMatch[1]);}var ns_c = function(){};</script>\\r\\n\\t<script>function h(obj){obj.style.behavior=\\'url(#default#homepage)\\';var a = obj.setHomePage(\\'//www.baidu.com/\\');}</script>\\r\\n\\t<noscript><meta http-equiv=\"refresh\" content=\"0; url=/baidu.html?from=noscript\"/></noscript>\\r\\n\\t<script>window._ASYNC_START=new Date().getTime();</script>\\r\\n</head>\\r\\n<body link=\"#0000cc\"><div id=\"wrapper\" style=\"display:none;\"><div id=\"u\"><a href=\"//www.baidu.com/gaoji/preferences.html\"  onmousedown=\"return user_c({\\'fm\\':\\'set\\',\\'tab\\':\\'setting\\',\\'login\\':\\'0\\'})\">\\xe6\\x90\\x9c\\xe7\\xb4\\xa2\\xe8\\xae\\xbe\\xe7\\xbd\\xae</a>|<a id=\"btop\" href=\"/\"  onmousedown=\"return user_c({\\'fm\\':\\'set\\',\\'tab\\':\\'index\\',\\'login\\':\\'0\\'})\">\\xe7\\x99\\xbe\\xe5\\xba\\xa6\\xe9\\xa6\\x96\\xe9\\xa1\\xb5</a>|<a id=\"lb\" href=\"https://passport.baidu.com/v2/?login&tpl=mn&u=http%3A%2F%2Fwww.baidu.com%2F\" onclick=\"return false;\"  onmousedown=\"return user_c({\\'fm\\':\\'set\\',\\'tab\\':\\'login\\'})\">\\xe7\\x99\\xbb\\xe5\\xbd\\x95</a><a href=\"https://passport.baidu.com/v2/?reg&regType=1&tpl=mn&u=http%3A%2F%2Fwww.baidu.com%2F\"  onmousedown=\"return user_c({\\'fm\\':\\'set\\',\\'tab\\':\\'reg\\'})\" target=\"_blank\" class=\"reg\">\\xe6\\xb3\\xa8\\xe5\\x86\\x8c</a></div><div id=\"head\"><div class=\"s_nav\"><a href=\"/\" class=\"s_logo\" onmousedown=\"return c({\\'fm\\':\\'tab\\',\\'tab\\':\\'logo\\'})\"><img src=\"//www.baidu.com/img/baidu_jgylogo3.gif\" width=\"117\" height=\"38\" border=\"0\" alt=\"\\xe5\\x88\\xb0\\xe7\\x99\\xbe\\xe5\\xba\\xa6\\xe9\\xa6\\x96\\xe9\\xa1\\xb5\" title=\"\\xe5\\x88\\xb0\\xe7\\x99\\xbe\\xe5\\xba\\xa6\\xe9\\xa6\\x96\\xe9\\xa1\\xb5\"></a><div class=\"s_tab\" id=\"s_tab\"><a href=\"http://news.baidu.com/ns?cl=2&rn=20&tn=news&word=\" wdfield=\"word\"  onmousedown=\"return c({\\'fm\\':\\'tab\\',\\'tab\\':\\'news\\'})\">\\xe6\\x96\\xb0\\xe9\\x97\\xbb</a>&#12288;<b>\\xe7\\xbd\\x91\\xe9\\xa1\\xb5</b>&#12288;<a href=\"http://tieba.baidu.com/f?kw=&fr=wwwt\" wdfield=\"kw\"  onmousedown=\"return c({\\'fm\\':\\'tab\\',\\'tab\\':\\'tieba\\'})\">\\xe8\\xb4\\xb4\\xe5\\x90\\xa7</a>&#12288;<a href=\"http://zhidao.baidu.com/q?ct=17&pn=0&tn=ikaslist&rn=10&word=&fr=wwwt\" wdfield=\"word\"  onmousedown=\"return c({\\'fm\\':\\'tab\\',\\'tab\\':\\'zhidao\\'})\">\\xe7\\x9f\\xa5\\xe9\\x81\\x93</a>&#12288;<a href=\"http://music.baidu.com/search?fr=ps&key=\" wdfield=\"key\"  onmousedown=\"return c({\\'fm\\':\\'tab\\',\\'tab\\':\\'music\\'})\">\\xe9\\x9f\\xb3\\xe4\\xb9\\x90</a>&#12288;<a href=\"http://image.baidu.com/i?tn=baiduimage&ps=1&ct=201326592&lm=-1&cl=2&nc=1&word=\" wdfield=\"word\"  onmousedown=\"return c({\\'fm\\':\\'tab\\',\\'tab\\':\\'pic\\'})\">\\xe5\\x9b\\xbe\\xe7\\x89\\x87</a>&#12288;<a href=\"http://v.baidu.com/v?ct=301989888&rn=20&pn=0&db=0&s=25&word=\" wdfield=\"word\"   onmousedown=\"return c({\\'fm\\':\\'tab\\',\\'tab\\':\\'video\\'})\">\\xe8\\xa7\\x86\\xe9\\xa2\\x91</a>&#12288;<a href=\"http://map.baidu.com/m?word=&fr=ps01000\" wdfield=\"word\"  onmousedown=\"return c({\\'fm\\':\\'tab\\',\\'tab\\':\\'map\\'})\">\\xe5\\x9c\\xb0\\xe5\\x9b\\xbe</a>&#12288;<a href=\"http://wenku.baidu.com/search?word=&lm=0&od=0\" wdfield=\"word\"  onmousedown=\"return c({\\'fm\\':\\'tab\\',\\'tab\\':\\'wenku\\'})\">\\xe6\\x96\\x87\\xe5\\xba\\x93</a>&#12288;<a href=\"//www.baidu.com/more/\"  onmousedown=\"return c({\\'fm\\':\\'tab\\',\\'tab\\':\\'more\\'})\">\\xe6\\x9b\\xb4\\xe5\\xa4\\x9a\\xc2\\xbb</a></div></div><form id=\"form\" name=\"f\" action=\"/s\" class=\"fm\" ><input type=\"hidden\" name=\"ie\" value=\"utf-8\"><input type=\"hidden\" name=\"f\" value=\"8\"><input type=\"hidden\" name=\"rsv_bp\" value=\"1\"><span class=\"bg s_ipt_wr\"><input name=\"wd\" id=\"kw\" class=\"s_ipt\" value=\"\" maxlength=\"100\"></span><span class=\"bg s_btn_wr\"><input type=\"submit\" id=\"su\" value=\"\\xe7\\x99\\xbe\\xe5\\xba\\xa6\\xe4\\xb8\\x80\\xe4\\xb8\\x8b\" class=\"bg s_btn\" onmousedown=\"this.className=\\'bg s_btn s_btn_h\\'\" onmouseout=\"this.className=\\'bg s_btn\\'\"></span><span class=\"tools\"><span id=\"mHolder\"><div id=\"mCon\"><span>\\xe8\\xbe\\x93\\xe5\\x85\\xa5\\xe6\\xb3\\x95</span></div><ul id=\"mMenu\"><li><a href=\"javascript:;\" name=\"ime_hw\">\\xe6\\x89\\x8b\\xe5\\x86\\x99</a></li><li><a href=\"javascript:;\" name=\"ime_py\">\\xe6\\x8b\\xbc\\xe9\\x9f\\xb3</a></li><li class=\"ln\"></li><li><a href=\"javascript:;\" name=\"ime_cl\">\\xe5\\x85\\xb3\\xe9\\x97\\xad</a></li></ul></span><span class=\"shouji\"><strong>\\xe6\\x8e\\xa8\\xe8\\x8d\\x90&nbsp;:&nbsp;</strong><a href=\"http://w.x.baidu.com/go/mini/8/10000020\" onmousedown=\"return ns_c({\\'fm\\':\\'behs\\',\\'tab\\':\\'bdbrowser\\'})\">\\xe7\\x99\\xbe\\xe5\\xba\\xa6\\xe6\\xb5\\x8f\\xe8\\xa7\\x88\\xe5\\x99\\xa8\\xef\\xbc\\x8c\\xe6\\x89\\x93\\xe5\\xbc\\x80\\xe7\\xbd\\x91\\xe9\\xa1\\xb5\\xe5\\xbf\\xab2\\xe7\\xa7\\x92\\xef\\xbc\\x81</a></span></span></form></div><div id=\"content\"><div id=\"u1\"><a href=\"http://news.baidu.com\" name=\"tj_trnews\" class=\"mnav\">\\xe6\\x96\\xb0\\xe9\\x97\\xbb</a><a href=\"http://www.hao123.com\" name=\"tj_trhao123\" class=\"mnav\">hao123</a><a href=\"http://map.baidu.com\" name=\"tj_trmap\" class=\"mnav\">\\xe5\\x9c\\xb0\\xe5\\x9b\\xbe</a><a href=\"http://v.baidu.com\" name=\"tj_trvideo\" class=\"mnav\">\\xe8\\xa7\\x86\\xe9\\xa2\\x91</a><a href=\"http://tieba.baidu.com\" name=\"tj_trtieba\" class=\"mnav\">\\xe8\\xb4\\xb4\\xe5\\x90\\xa7</a><a href=\"https://passport.baidu.com/v2/?login&tpl=mn&u=http%3A%2F%2Fwww.baidu.com%2F\" name=\"tj_login\" id=\"lb\" onclick=\"return false;\">\\xe7\\x99\\xbb\\xe5\\xbd\\x95</a><a href=\"//www.baidu.com/gaoji/preferences.html\" name=\"tj_settingicon\" id=\"pf\">\\xe8\\xae\\xbe\\xe7\\xbd\\xae</a><a href=\"//www.baidu.com/more/\" name=\"tj_briicon\" id=\"bri\">\\xe6\\x9b\\xb4\\xe5\\xa4\\x9a\\xe4\\xba\\xa7\\xe5\\x93\\x81</a></div><div id=\"m\"><p id=\"lg\"><img src=\"//www.baidu.com/img/bd_logo.png\" width=\"270\" height=\"129\"></p><p id=\"nv\"><a href=\"http://news.baidu.com\">\\xe6\\x96\\xb0&nbsp;\\xe9\\x97\\xbb</a>\\xe3\\x80\\x80<b>\\xe7\\xbd\\x91&nbsp;\\xe9\\xa1\\xb5</b>\\xe3\\x80\\x80<a href=\"http://tieba.baidu.com\">\\xe8\\xb4\\xb4&nbsp;\\xe5\\x90\\xa7</a>\\xe3\\x80\\x80<a href=\"http://zhidao.baidu.com\">\\xe7\\x9f\\xa5&nbsp;\\xe9\\x81\\x93</a>\\xe3\\x80\\x80<a href=\"http://music.baidu.com\">\\xe9\\x9f\\xb3&nbsp;\\xe4\\xb9\\x90</a>\\xe3\\x80\\x80<a href=\"http://image.baidu.com\">\\xe5\\x9b\\xbe&nbsp;\\xe7\\x89\\x87</a>\\xe3\\x80\\x80<a href=\"http://v.baidu.com\">\\xe8\\xa7\\x86&nbsp;\\xe9\\xa2\\x91</a>\\xe3\\x80\\x80<a href=\"http://map.baidu.com\">\\xe5\\x9c\\xb0&nbsp;\\xe5\\x9b\\xbe</a></p><div id=\"fm\"><form id=\"form1\" name=\"f1\" action=\"/s\" class=\"fm\"><span class=\"bg s_ipt_wr\"><input type=\"text\" name=\"wd\" id=\"kw1\" maxlength=\"100\" class=\"s_ipt\"></span><input type=\"hidden\" name=\"rsv_bp\" value=\"0\"><input type=hidden name=ch value=\"\"><input type=hidden name=tn value=\"baidu\"><input type=hidden name=bar value=\"\"><input type=\"hidden\" name=\"rsv_spt\" value=\"3\"><input type=\"hidden\" name=\"ie\" value=\"utf-8\"><span class=\"bg s_btn_wr\"><input type=\"submit\" value=\"\\xe7\\x99\\xbe\\xe5\\xba\\xa6\\xe4\\xb8\\x80\\xe4\\xb8\\x8b\" id=\"su1\" class=\"bg s_btn\" onmousedown=\"this.className=\\'bg s_btn s_btn_h\\'\" onmouseout=\"this.className=\\'bg s_btn\\'\"></span></form><span class=\"tools\"><span id=\"mHolder1\"><div id=\"mCon1\"><span>\\xe8\\xbe\\x93\\xe5\\x85\\xa5\\xe6\\xb3\\x95</span></div></span></span><ul id=\"mMenu1\"><div class=\"mMenu1-tip-arrow\"><em></em><ins></ins></div><li><a href=\"javascript:;\" name=\"ime_hw\">\\xe6\\x89\\x8b\\xe5\\x86\\x99</a></li><li><a href=\"javascript:;\" name=\"ime_py\">\\xe6\\x8b\\xbc\\xe9\\x9f\\xb3</a></li><li class=\"ln\"></li><li><a href=\"javascript:;\" name=\"ime_cl\">\\xe5\\x85\\xb3\\xe9\\x97\\xad</a></li></ul></div><p id=\"lk\"><a href=\"http://baike.baidu.com\">\\xe7\\x99\\xbe\\xe7\\xa7\\x91</a>\\xe3\\x80\\x80<a href=\"http://wenku.baidu.com\">\\xe6\\x96\\x87\\xe5\\xba\\x93</a>\\xe3\\x80\\x80<a href=\"http://www.hao123.com\">hao123</a><span>&nbsp;|&nbsp;<a href=\"//www.baidu.com/more/\">\\xe6\\x9b\\xb4\\xe5\\xa4\\x9a&gt;&gt;</a></span></p><p id=\"lm\"></p></div></div><div id=\"ftCon\"><div id=\"ftConw\"><p id=\"lh\"><a id=\"seth\" onClick=\"h(this)\" href=\"/\" onmousedown=\"return ns_c({\\'fm\\':\\'behs\\',\\'tab\\':\\'homepage\\',\\'pos\\':0})\">\\xe6\\x8a\\x8a\\xe7\\x99\\xbe\\xe5\\xba\\xa6\\xe8\\xae\\xbe\\xe4\\xb8\\xba\\xe4\\xb8\\xbb\\xe9\\xa1\\xb5</a><a id=\"setf\" href=\"//www.baidu.com/cache/sethelp/index.html\" onmousedown=\"return ns_c({\\'fm\\':\\'behs\\',\\'tab\\':\\'favorites\\',\\'pos\\':0})\" target=\"_blank\">\\xe6\\x8a\\x8a\\xe7\\x99\\xbe\\xe5\\xba\\xa6\\xe8\\xae\\xbe\\xe4\\xb8\\xba\\xe4\\xb8\\xbb\\xe9\\xa1\\xb5</a><a onmousedown=\"return ns_c({\\'fm\\':\\'behs\\',\\'tab\\':\\'tj_about\\'})\" href=\"http://home.baidu.com\">\\xe5\\x85\\xb3\\xe4\\xba\\x8e\\xe7\\x99\\xbe\\xe5\\xba\\xa6</a><a onmousedown=\"return ns_c({\\'fm\\':\\'behs\\',\\'tab\\':\\'tj_about_en\\'})\" href=\"http://ir.baidu.com\">About Baidu</a></p><p id=\"cp\">&copy;2018&nbsp;Baidu&nbsp;<a href=\"/duty/\" name=\"tj_duty\">\\xe4\\xbd\\xbf\\xe7\\x94\\xa8\\xe7\\x99\\xbe\\xe5\\xba\\xa6\\xe5\\x89\\x8d\\xe5\\xbf\\x85\\xe8\\xaf\\xbb</a>&nbsp;\\xe4\\xba\\xacICP\\xe8\\xaf\\x81030173\\xe5\\x8f\\xb7&nbsp;<img src=\"http://s1.bdstatic.com/r/www/cache/static/global/img/gs_237f015b.gif\"></p></div></div><div id=\"wrapper_wrapper\"></div></div><div class=\"c-tips-container\" id=\"c-tips-container\"></div>\\r\\n<script>window.__async_strategy=2;</script>\\r\\n<script>var bds={se:{},su:{urdata:[],urSendClick:function(){}},util:{},use:{},comm : {domain:\"http://www.baidu.com\",ubsurl : \"http://sclick.baidu.com/w.gif\",tn:\"baidu\",queryEnc:\"\",queryId:\"\",inter:\"\",templateName:\"baidu\",sugHost : \"http://suggestion.baidu.com/su\",query : \"\",qid : \"\",cid : \"\",sid : \"\",indexSid : \"\",stoken : \"\",serverTime : \"\",user : \"\",username : \"\",loginAction : [],useFavo : \"\",pinyin : \"\",favoOn : \"\",curResultNum:\"\",rightResultExist:false,protectNum:0,zxlNum:0,pageNum:1,pageSize:10,newindex:0,async:1,maxPreloadThread:5,maxPreloadTimes:10,preloadMouseMoveDistance:5,switchAddMask:false,isDebug:false,ishome : 1},_base64:{domain : \"http://b1.bdstatic.com/\",b64Exp : -1,pdc : 0}};var name,navigate,al_arr=[];var selfOpen = window.open;eval(\"var open = selfOpen;\");var isIE=navigator.userAgent.indexOf(\"MSIE\")!=-1&&!window.opera;var E = bds.ecom= {};bds.se.mon = {\\'loadedItems\\':[],\\'load\\':function(){},\\'srvt\\':-1};try {bds.se.mon.srvt = parseInt(document.cookie.match(new RegExp(\"(^| )BDSVRTM=([^;]*)(;|$)\"))[2]);document.cookie=\"BDSVRTM=;expires=Sat, 01 Jan 2000 00:00:00 GMT\"; }catch(e){}</script>\\r\\n<script>if(!location.hash.match(/[^a-zA-Z0-9]wd=/)){document.getElementById(\"ftCon\").style.display=\\'block\\';document.getElementById(\"u1\").style.display=\\'block\\';document.getElementById(\"content\").style.display=\\'block\\';document.getElementById(\"wrapper\").style.display=\\'block\\';setTimeout(function(){try{document.getElementById(\"kw1\").focus();document.getElementById(\"kw1\").parentNode.className += \\' iptfocus\\';}catch(e){}},0);}</script>\\r\\n<script type=\"text/javascript\" src=\"http://s1.bdstatic.com/r/www/cache/static/jquery/jquery-1.10.2.min_f2fb5194.js\"></script>\\r\\n<script>(function(){var index_content = $(\\'#content\\');var index_foot= $(\\'#ftCon\\');var index_css= $(\\'head [index]\\');var index_u= $(\\'#u1\\');var result_u= $(\\'#u\\');var wrapper=$(\"#wrapper\");window.index_on=function(){index_css.insertAfter(\"meta:eq(0)\");result_common_css.remove();result_aladdin_css.remove();result_sug_css.remove();index_content.show();index_foot.show();index_u.show();result_u.hide();wrapper.show();if(bds.su&&bds.su.U&&bds.su.U.homeInit){bds.su.U.homeInit();}setTimeout(function(){try{$(\\'#kw1\\').get(0).focus();window.sugIndex.start();}catch(e){}},0);if(typeof initIndex==\\'function\\'){initIndex();}};window.index_off=function(){index_css.remove();index_content.hide();index_foot.hide();index_u.hide();result_u.show();result_aladdin_css.insertAfter(\"meta:eq(0)\");result_common_css.insertAfter(\"meta:eq(0)\");result_sug_css.insertAfter(\"meta:eq(0)\");wrapper.show();};})();</script>\\r\\n<script>window.__switch_add_mask=1;</script>\\r\\n<script type=\"text/javascript\" src=\"http://s1.bdstatic.com/r/www/cache/static/global/js/instant_search_newi_redirect1_20bf4036.js\"></script>\\r\\n<script>initPreload();$(\"#u,#u1\").delegate(\"#lb\",\\'click\\',function(){try{bds.se.login.open();}catch(e){}});if(navigator.cookieEnabled){document.cookie=\"NOJS=;expires=Sat, 01 Jan 2000 00:00:00 GMT\";}</script>\\r\\n<script>$(function(){for(i=0;i<3;i++){u($($(\\'.s_ipt_wr\\')[i]),$($(\\'.s_ipt\\')[i]),$($(\\'.s_btn_wr\\')[i]),$($(\\'.s_btn\\')[i]));}function u(iptwr,ipt,btnwr,btn){if(iptwr && ipt){iptwr.on(\\'mouseover\\',function(){iptwr.addClass(\\'ipthover\\');}).on(\\'mouseout\\',function(){iptwr.removeClass(\\'ipthover\\');}).on(\\'click\\',function(){ipt.focus();});ipt.on(\\'focus\\',function(){iptwr.addClass(\\'iptfocus\\');}).on(\\'blur\\',function(){iptwr.removeClass(\\'iptfocus\\');}).on(\\'render\\',function(e){var $s = iptwr.parent().find(\\'.bdsug\\');var l = $s.find(\\'li\\').length;if(l>=5){$s.addClass(\\'bdsugbg\\');}else{$s.removeClass(\\'bdsugbg\\');}});}if(btnwr && btn){btnwr.on(\\'mouseover\\',function(){btn.addClass(\\'btnhover\\');}).on(\\'mouseout\\',function(){btn.removeClass(\\'btnhover\\');});}}});</script>\\r\\n<script type=\"text/javascript\" src=\"http://s1.bdstatic.com/r/www/cache/static/home/js/bri_7f1fa703.js\"></script>\\r\\n<script>(function(){var _init=false;window.initIndex=function(){if(_init){return;}_init=true;var w=window,d=document,n=navigator,k=d.f1.wd,a=d.getElementById(\"nv\").getElementsByTagName(\"a\"),isIE=n.userAgent.indexOf(\"MSIE\")!=-1&&!window.opera;(function(){if(/q=([^&]+)/.test(location.search)){k.value=decodeURIComponent(RegExp[\"\\\\x241\"])}})();(function(){var u = G(\"u1\").getElementsByTagName(\"a\"), nv = G(\"nv\").getElementsByTagName(\"a\"), lk = G(\"lk\").getElementsByTagName(\"a\"), un = \"\";var tj_nv = [\"news\",\"tieba\",\"zhidao\",\"mp3\",\"img\",\"video\",\"map\"];var tj_lk = [\"baike\",\"wenku\",\"hao123\",\"more\"];un = bds.comm.user == \"\" ? \"\" : bds.comm.user;function _addTJ(obj){addEV(obj, \"mousedown\", function(e){var e = e || window.event;var target = e.target || e.srcElement;if(target.name){ns_c({\\'fm\\':\\'behs\\',\\'tab\\':target.name,\\'un\\':encodeURIComponent(un)});}});}for(var i = 0; i < u.length; i++){_addTJ(u[i]);}for(var i = 0; i < nv.length; i++){nv[i].name = \\'tj_\\' + tj_nv[i];}for(var i = 0; i < lk.length; i++){lk[i].name = \\'tj_\\' + tj_lk[i];}})();(function() {var links = {\\'tj_news\\': [\\'word\\', \\'http://news.baidu.com/ns?tn=news&cl=2&rn=20&ct=1&ie=utf-8\\'],\\'tj_tieba\\': [\\'kw\\', \\'http://tieba.baidu.com/f?ie=utf-8\\'],\\'tj_zhidao\\': [\\'word\\', \\'http://zhidao.baidu.com/search?pn=0&rn=10&lm=0\\'],\\'tj_mp3\\': [\\'key\\', \\'http://music.baidu.com/search?fr=ps&ie=utf-8\\'],\\'tj_img\\': [\\'word\\', \\'http://image.baidu.com/i?ct=201326592&cl=2&nc=1&lm=-1&st=-1&tn=baiduimage&istype=2&fm=&pv=&z=0&ie=utf-8\\'],\\'tj_video\\': [\\'word\\', \\'http://video.baidu.com/v?ct=301989888&s=25&ie=utf-8\\'],\\'tj_map\\': [\\'wd\\', \\'http://map.baidu.com/?newmap=1&ie=utf-8&s=s\\'],\\'tj_baike\\': [\\'word\\', \\'http://baike.baidu.com/search/word?pic=1&sug=1&enc=utf8\\'],\\'tj_wenku\\': [\\'word\\', \\'http://wenku.baidu.com/search?ie=utf-8\\']};var domArr = [G(\\'nv\\'), G(\\'lk\\'),G(\\'cp\\')],kw = G(\\'kw1\\');for (var i = 0, l = domArr.length; i < l; i++) {domArr[i].onmousedown = function(e) {e = e || window.event;var target = e.target || e.srcElement,name = target.getAttribute(\\'name\\'),items = links[name],reg = new RegExp(\\'^\\\\\\\\s+|\\\\\\\\s+\\\\x24\\'),key = kw.value.replace(reg, \\'\\');if (items) {if (key.length > 0) {var wd = items[0], url = items[1],url = url + ( name === \\'tj_map\\' ? encodeURIComponent(\\'&\\' + wd + \\'=\\' + key) : ( ( url.indexOf(\\'?\\') > 0 ? \\'&\\' : \\'?\\' ) + wd + \\'=\\' + encodeURIComponent(key) ) );target.href = url;} else {target.href = target.href.match(new RegExp(\\'^http:\\\\/\\\\/.+\\\\.baidu\\\\.com\\'))[0];}}name && ns_c({\\'fm\\': \\'behs\\',\\'tab\\': name,\\'query\\': encodeURIComponent(key),\\'un\\': encodeURIComponent(bds.comm.user || \\'\\') });};}})();};if(window.pageState==0){initIndex();}})();document.cookie = \\'IS_STATIC=1;expires=\\' + new Date(new Date().getTime() + 10*60*1000).toGMTString();</script>\\r\\n</body></html>\\r\\n'"
      ]
     },
     "execution_count": 29,
     "metadata": {},
     "output_type": "execute_result"
    }
   ],
   "source": [
    "data"
   ]
  },
  {
   "cell_type": "markdown",
   "metadata": {},
   "source": [
    "接收数据时，调用recv(max)方法，一次最多接收指定的字节数，因此，在一个while循环中反复接收，直到recv()返回空数据，表示接收完毕，退出循环。\n",
    "\n",
    "当我们接收完数据后，调用close()方法关闭Socket，这样，一次完整的网络通信就结束了：\n"
   ]
  },
  {
   "cell_type": "code",
   "execution_count": 12,
   "metadata": {},
   "outputs": [],
   "source": [
    "# 关闭连接:\n",
    "s.close()"
   ]
  },
  {
   "cell_type": "code",
   "execution_count": null,
   "metadata": {},
   "outputs": [],
   "source": []
  }
 ],
 "metadata": {
  "kernelspec": {
   "display_name": "Python 3",
   "language": "python",
   "name": "python3"
  },
  "language_info": {
   "codemirror_mode": {
    "name": "ipython",
    "version": 3
   },
   "file_extension": ".py",
   "mimetype": "text/x-python",
   "name": "python",
   "nbconvert_exporter": "python",
   "pygments_lexer": "ipython3",
   "version": "3.6.5"
  }
 },
 "nbformat": 4,
 "nbformat_minor": 2
}
